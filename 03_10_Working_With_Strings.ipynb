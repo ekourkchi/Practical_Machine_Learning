{
  "nbformat": 4,
  "nbformat_minor": 0,
  "metadata": {
    "anaconda-cloud": {},
    "kernelspec": {
      "display_name": "Python 3",
      "language": "python",
      "name": "python3"
    },
    "language_info": {
      "codemirror_mode": {
        "name": "ipython",
        "version": 3
      },
      "file_extension": ".py",
      "mimetype": "text/x-python",
      "name": "python",
      "nbconvert_exporter": "python",
      "pygments_lexer": "ipython3",
      "version": "3.5.1"
    },
    "colab": {
      "name": "03.10-Working-With-Strings.ipynb",
      "provenance": [],
      "collapsed_sections": [],
      "toc_visible": true,
      "include_colab_link": true
    }
  },
  "cells": [
    {
      "cell_type": "markdown",
      "metadata": {
        "id": "view-in-github",
        "colab_type": "text"
      },
      "source": [
        "<a href=\"https://colab.research.google.com/github/ekourkchi/Practical_Machine_Learning/blob/master/03_10_Working_With_Strings.ipynb\" target=\"_parent\"><img src=\"https://colab.research.google.com/assets/colab-badge.svg\" alt=\"Open In Colab\"/></a>"
      ]
    },
    {
      "cell_type": "markdown",
      "metadata": {
        "id": "DDjEBb6DGoKo",
        "colab_type": "text"
      },
      "source": [
        "<!--BOOK_INFORMATION-->\n",
        "<img align=\"left\" style=\"padding-right:10px;\" src=\"https://github.com/jakevdp/PythonDataScienceHandbook/blob/master/notebooks/figures/PDSH-cover-small.png?raw=1\">\n",
        "\n",
        "*This notebook contains an excerpt from the [Python Data Science Handbook](http://shop.oreilly.com/product/0636920034919.do) by Jake VanderPlas; the content is available [on GitHub](https://github.com/jakevdp/PythonDataScienceHandbook).*\n",
        "\n",
        "*The text is released under the [CC-BY-NC-ND license](https://creativecommons.org/licenses/by-nc-nd/3.0/us/legalcode), and code is released under the [MIT license](https://opensource.org/licenses/MIT). If you find this content useful, please consider supporting the work by [buying the book](http://shop.oreilly.com/product/0636920034919.do)!*"
      ]
    },
    {
      "cell_type": "markdown",
      "metadata": {
        "id": "x7MaZ-ZVGoKq",
        "colab_type": "text"
      },
      "source": [
        "<!--NAVIGATION-->\n",
        "< [Pivot Tables](03.09-Pivot-Tables.ipynb) | [Contents](Index.ipynb) | [Working with Time Series](03.11-Working-with-Time-Series.ipynb) >\n",
        "\n",
        "<a href=\"https://colab.research.google.com/github/jakevdp/PythonDataScienceHandbook/blob/master/notebooks/03.10-Working-With-Strings.ipynb\"><img align=\"left\" src=\"https://colab.research.google.com/assets/colab-badge.svg\" alt=\"Open in Colab\" title=\"Open and Execute in Google Colaboratory\"></a>\n"
      ]
    },
    {
      "cell_type": "markdown",
      "metadata": {
        "id": "ZkhxMeS4GoKu",
        "colab_type": "text"
      },
      "source": [
        "# Vectorized String Operations"
      ]
    },
    {
      "cell_type": "markdown",
      "metadata": {
        "id": "gT8Gp1-NGoKw",
        "colab_type": "text"
      },
      "source": [
        "One strength of Python is its relative ease in handling and manipulating string data.\n",
        "Pandas builds on this and provides a comprehensive set of *vectorized string operations* that become an essential piece of the type of munging required when working with (read: cleaning up) real-world data.\n",
        "In this section, we'll walk through some of the Pandas string operations, and then take a look at using them to partially clean up a very messy dataset of recipes collected from the Internet."
      ]
    },
    {
      "cell_type": "markdown",
      "metadata": {
        "id": "71jJV-HaGoKz",
        "colab_type": "text"
      },
      "source": [
        "## Introducing Pandas String Operations\n",
        "\n",
        "We saw in previous sections how tools like NumPy and Pandas generalize arithmetic operations so that we can easily and quickly perform the same operation on many array elements. For example:"
      ]
    },
    {
      "cell_type": "code",
      "metadata": {
        "id": "fkdGqiiPGoK6",
        "colab_type": "code",
        "colab": {
          "base_uri": "https://localhost:8080/",
          "height": 34
        },
        "outputId": "c056f76b-3dfb-466a-ecdf-8e26b6dd9ed5"
      },
      "source": [
        "import numpy as np\n",
        "x = np.array([2, 3, 5, 7, 11, 13])\n",
        "x * 2"
      ],
      "execution_count": 1,
      "outputs": [
        {
          "output_type": "execute_result",
          "data": {
            "text/plain": [
              "array([ 4,  6, 10, 14, 22, 26])"
            ]
          },
          "metadata": {
            "tags": []
          },
          "execution_count": 1
        }
      ]
    },
    {
      "cell_type": "markdown",
      "metadata": {
        "id": "RAzPZdrkGoLN",
        "colab_type": "text"
      },
      "source": [
        "This *vectorization* of operations simplifies the syntax of operating on arrays of data: we no longer have to worry about the size or shape of the array, but just about what operation we want done.\n",
        "For arrays of strings, NumPy does not provide such simple access, and thus you're stuck using a more verbose loop syntax:"
      ]
    },
    {
      "cell_type": "code",
      "metadata": {
        "id": "r6Sq2F6eGoLO",
        "colab_type": "code",
        "colab": {
          "base_uri": "https://localhost:8080/",
          "height": 34
        },
        "outputId": "b24bbbbd-ea7a-4b16-a198-d426c6c961d2"
      },
      "source": [
        "data = ['peter', 'Paul', 'MARY', 'gUIDO']\n",
        "[s.capitalize() for s in data]"
      ],
      "execution_count": 2,
      "outputs": [
        {
          "output_type": "execute_result",
          "data": {
            "text/plain": [
              "['Peter', 'Paul', 'Mary', 'Guido']"
            ]
          },
          "metadata": {
            "tags": []
          },
          "execution_count": 2
        }
      ]
    },
    {
      "cell_type": "markdown",
      "metadata": {
        "id": "P0bDhTiqGoLX",
        "colab_type": "text"
      },
      "source": [
        "This is perhaps sufficient to work with some data, but it will break if there are any missing values.\n",
        "For example:"
      ]
    },
    {
      "cell_type": "code",
      "metadata": {
        "id": "JK8ZVX2QGoLY",
        "colab_type": "code",
        "colab": {
          "base_uri": "https://localhost:8080/",
          "height": 254
        },
        "outputId": "7e843ca1-d1d3-4a4e-d779-69be86a67b24"
      },
      "source": [
        "data = ['peter', 'Paul', None, 'MARY', 'gUIDO']\n",
        "[s.capitalize() for s in data]"
      ],
      "execution_count": 10,
      "outputs": [
        {
          "output_type": "error",
          "ename": "AttributeError",
          "evalue": "ignored",
          "traceback": [
            "\u001b[0;31m---------------------------------------------------------------------------\u001b[0m",
            "\u001b[0;31mAttributeError\u001b[0m                            Traceback (most recent call last)",
            "\u001b[0;32m<ipython-input-10-3b0264c38d59>\u001b[0m in \u001b[0;36m<module>\u001b[0;34m()\u001b[0m\n\u001b[1;32m      1\u001b[0m \u001b[0mdata\u001b[0m \u001b[0;34m=\u001b[0m \u001b[0;34m[\u001b[0m\u001b[0;34m'peter'\u001b[0m\u001b[0;34m,\u001b[0m \u001b[0;34m'Paul'\u001b[0m\u001b[0;34m,\u001b[0m \u001b[0;32mNone\u001b[0m\u001b[0;34m,\u001b[0m \u001b[0;34m'MARY'\u001b[0m\u001b[0;34m,\u001b[0m \u001b[0;34m'gUIDO'\u001b[0m\u001b[0;34m]\u001b[0m\u001b[0;34m\u001b[0m\u001b[0;34m\u001b[0m\u001b[0m\n\u001b[0;32m----> 2\u001b[0;31m \u001b[0;34m[\u001b[0m\u001b[0ms\u001b[0m\u001b[0;34m.\u001b[0m\u001b[0mcapitalize\u001b[0m\u001b[0;34m(\u001b[0m\u001b[0;34m)\u001b[0m \u001b[0;32mfor\u001b[0m \u001b[0ms\u001b[0m \u001b[0;32min\u001b[0m \u001b[0mdata\u001b[0m\u001b[0;34m]\u001b[0m\u001b[0;34m\u001b[0m\u001b[0;34m\u001b[0m\u001b[0m\n\u001b[0m",
            "\u001b[0;32m<ipython-input-10-3b0264c38d59>\u001b[0m in \u001b[0;36m<listcomp>\u001b[0;34m(.0)\u001b[0m\n\u001b[1;32m      1\u001b[0m \u001b[0mdata\u001b[0m \u001b[0;34m=\u001b[0m \u001b[0;34m[\u001b[0m\u001b[0;34m'peter'\u001b[0m\u001b[0;34m,\u001b[0m \u001b[0;34m'Paul'\u001b[0m\u001b[0;34m,\u001b[0m \u001b[0;32mNone\u001b[0m\u001b[0;34m,\u001b[0m \u001b[0;34m'MARY'\u001b[0m\u001b[0;34m,\u001b[0m \u001b[0;34m'gUIDO'\u001b[0m\u001b[0;34m]\u001b[0m\u001b[0;34m\u001b[0m\u001b[0;34m\u001b[0m\u001b[0m\n\u001b[0;32m----> 2\u001b[0;31m \u001b[0;34m[\u001b[0m\u001b[0ms\u001b[0m\u001b[0;34m.\u001b[0m\u001b[0mcapitalize\u001b[0m\u001b[0;34m(\u001b[0m\u001b[0;34m)\u001b[0m \u001b[0;32mfor\u001b[0m \u001b[0ms\u001b[0m \u001b[0;32min\u001b[0m \u001b[0mdata\u001b[0m\u001b[0;34m]\u001b[0m\u001b[0;34m\u001b[0m\u001b[0;34m\u001b[0m\u001b[0m\n\u001b[0m",
            "\u001b[0;31mAttributeError\u001b[0m: 'NoneType' object has no attribute 'capitalize'"
          ]
        }
      ]
    },
    {
      "cell_type": "markdown",
      "metadata": {
        "id": "1HDuqsrBGoLg",
        "colab_type": "text"
      },
      "source": [
        "Pandas includes features to address both this need for vectorized string operations and for correctly handling missing data via the ``str`` attribute of Pandas Series and Index objects containing strings.\n",
        "So, for example, suppose we create a Pandas Series with this data:"
      ]
    },
    {
      "cell_type": "code",
      "metadata": {
        "id": "swe_eFKaGoLh",
        "colab_type": "code",
        "colab": {
          "base_uri": "https://localhost:8080/",
          "height": 121
        },
        "outputId": "2029ad86-ae4f-4ef7-d108-f42291a10ab3"
      },
      "source": [
        "import pandas as pd\n",
        "names = pd.Series(data)\n",
        "names"
      ],
      "execution_count": 12,
      "outputs": [
        {
          "output_type": "execute_result",
          "data": {
            "text/plain": [
              "0    peter\n",
              "1     Paul\n",
              "2     None\n",
              "3     MARY\n",
              "4    gUIDO\n",
              "dtype: object"
            ]
          },
          "metadata": {
            "tags": []
          },
          "execution_count": 12
        }
      ]
    },
    {
      "cell_type": "markdown",
      "metadata": {
        "id": "Z-_y65IXGoLp",
        "colab_type": "text"
      },
      "source": [
        "We can now call a single method that will capitalize all the entries, while skipping over any missing values:"
      ]
    },
    {
      "cell_type": "code",
      "metadata": {
        "id": "h5WyESiwGoLq",
        "colab_type": "code",
        "colab": {
          "base_uri": "https://localhost:8080/",
          "height": 121
        },
        "outputId": "35049e6e-536a-4527-b3a7-d37fc0b1c160"
      },
      "source": [
        "names.str.capitalize()"
      ],
      "execution_count": 13,
      "outputs": [
        {
          "output_type": "execute_result",
          "data": {
            "text/plain": [
              "0    Peter\n",
              "1     Paul\n",
              "2     None\n",
              "3     Mary\n",
              "4    Guido\n",
              "dtype: object"
            ]
          },
          "metadata": {
            "tags": []
          },
          "execution_count": 13
        }
      ]
    },
    {
      "cell_type": "markdown",
      "metadata": {
        "id": "-hKC2ymDGoLx",
        "colab_type": "text"
      },
      "source": [
        "Using tab completion on this ``str`` attribute will list all the vectorized string methods available to Pandas."
      ]
    },
    {
      "cell_type": "markdown",
      "metadata": {
        "id": "HJMMDhr_GoLy",
        "colab_type": "text"
      },
      "source": [
        "## Tables of Pandas String Methods\n",
        "\n",
        "If you have a good understanding of string manipulation in Python, most of Pandas string syntax is intuitive enough that it's probably sufficient to just list a table of available methods; we will start with that here, before diving deeper into a few of the subtleties.\n",
        "The examples in this section use the following series of names:"
      ]
    },
    {
      "cell_type": "code",
      "metadata": {
        "id": "pCpl5VkZGoLz",
        "colab_type": "code",
        "colab": {}
      },
      "source": [
        "monte = pd.Series(['Graham Chapman', 'John Cleese', 'Terry Gilliam',\n",
        "                   'Eric Idle', 'Terry Jones', 'Michael Palin'])"
      ],
      "execution_count": 14,
      "outputs": []
    },
    {
      "cell_type": "markdown",
      "metadata": {
        "id": "7-E3d-uEGoL5",
        "colab_type": "text"
      },
      "source": [
        "### Methods similar to Python string methods\n",
        "Nearly all Python's built-in string methods are mirrored by a Pandas vectorized string method. Here is a list of Pandas ``str`` methods that mirror Python string methods:\n",
        "\n",
        "|             |                  |                  |                  |\n",
        "|-------------|------------------|------------------|------------------|\n",
        "|``len()``    | ``lower()``      | ``translate()``  | ``islower()``    | \n",
        "|``ljust()``  | ``upper()``      | ``startswith()`` | ``isupper()``    | \n",
        "|``rjust()``  | ``find()``       | ``endswith()``   | ``isnumeric()``  | \n",
        "|``center()`` | ``rfind()``      | ``isalnum()``    | ``isdecimal()``  | \n",
        "|``zfill()``  | ``index()``      | ``isalpha()``    | ``split()``      | \n",
        "|``strip()``  | ``rindex()``     | ``isdigit()``    | ``rsplit()``     | \n",
        "|``rstrip()`` | ``capitalize()`` | ``isspace()``    | ``partition()``  | \n",
        "|``lstrip()`` |  ``swapcase()``  |  ``istitle()``   | ``rpartition()`` |\n",
        "\n",
        "Notice that these have various return values. Some, like ``lower()``, return a series of strings:"
      ]
    },
    {
      "cell_type": "code",
      "metadata": {
        "id": "NEH3eVEXGoL6",
        "colab_type": "code",
        "colab": {
          "base_uri": "https://localhost:8080/",
          "height": 139
        },
        "outputId": "4717b211-844e-4f22-b2ff-a83bf69bb263"
      },
      "source": [
        "monte.str.lower()"
      ],
      "execution_count": 15,
      "outputs": [
        {
          "output_type": "execute_result",
          "data": {
            "text/plain": [
              "0    graham chapman\n",
              "1       john cleese\n",
              "2     terry gilliam\n",
              "3         eric idle\n",
              "4       terry jones\n",
              "5     michael palin\n",
              "dtype: object"
            ]
          },
          "metadata": {
            "tags": []
          },
          "execution_count": 15
        }
      ]
    },
    {
      "cell_type": "markdown",
      "metadata": {
        "id": "3W--B3-4GoMB",
        "colab_type": "text"
      },
      "source": [
        "But some others return numbers:"
      ]
    },
    {
      "cell_type": "code",
      "metadata": {
        "id": "tAB0L3_MGoMD",
        "colab_type": "code",
        "colab": {
          "base_uri": "https://localhost:8080/",
          "height": 139
        },
        "outputId": "8b8b3251-26b3-4b93-a602-fe6cadf8fe57"
      },
      "source": [
        "monte.str.len()"
      ],
      "execution_count": 16,
      "outputs": [
        {
          "output_type": "execute_result",
          "data": {
            "text/plain": [
              "0    14\n",
              "1    11\n",
              "2    13\n",
              "3     9\n",
              "4    11\n",
              "5    13\n",
              "dtype: int64"
            ]
          },
          "metadata": {
            "tags": []
          },
          "execution_count": 16
        }
      ]
    },
    {
      "cell_type": "markdown",
      "metadata": {
        "id": "endHyMQCGoMJ",
        "colab_type": "text"
      },
      "source": [
        "Or Boolean values:"
      ]
    },
    {
      "cell_type": "code",
      "metadata": {
        "id": "943Adom2GoMJ",
        "colab_type": "code",
        "colab": {
          "base_uri": "https://localhost:8080/",
          "height": 139
        },
        "outputId": "dec498ac-ff67-46c9-e211-7b0255392ed4"
      },
      "source": [
        "monte.str.startswith('T')"
      ],
      "execution_count": 17,
      "outputs": [
        {
          "output_type": "execute_result",
          "data": {
            "text/plain": [
              "0    False\n",
              "1    False\n",
              "2     True\n",
              "3    False\n",
              "4     True\n",
              "5    False\n",
              "dtype: bool"
            ]
          },
          "metadata": {
            "tags": []
          },
          "execution_count": 17
        }
      ]
    },
    {
      "cell_type": "markdown",
      "metadata": {
        "id": "Fqz9QVYOGoMP",
        "colab_type": "text"
      },
      "source": [
        "Still others return lists or other compound values for each element:"
      ]
    },
    {
      "cell_type": "code",
      "metadata": {
        "id": "5BFjGofFGoMQ",
        "colab_type": "code",
        "colab": {
          "base_uri": "https://localhost:8080/",
          "height": 139
        },
        "outputId": "af93ef83-ffb7-4cec-fe84-82e20f809e9f"
      },
      "source": [
        "monte.str.split()"
      ],
      "execution_count": 18,
      "outputs": [
        {
          "output_type": "execute_result",
          "data": {
            "text/plain": [
              "0    [Graham, Chapman]\n",
              "1       [John, Cleese]\n",
              "2     [Terry, Gilliam]\n",
              "3         [Eric, Idle]\n",
              "4       [Terry, Jones]\n",
              "5     [Michael, Palin]\n",
              "dtype: object"
            ]
          },
          "metadata": {
            "tags": []
          },
          "execution_count": 18
        }
      ]
    },
    {
      "cell_type": "markdown",
      "metadata": {
        "id": "bTfhAZUqGoMY",
        "colab_type": "text"
      },
      "source": [
        "We'll see further manipulations of this kind of series-of-lists object as we continue our discussion."
      ]
    },
    {
      "cell_type": "markdown",
      "metadata": {
        "id": "St15icBQGoMZ",
        "colab_type": "text"
      },
      "source": [
        "### Methods using regular expressions\n",
        "\n",
        "In addition, there are several methods that accept regular expressions to examine the content of each string element, and follow some of the API conventions of Python's built-in ``re`` module:\n",
        "\n",
        "| Method | Description |\n",
        "|--------|-------------|\n",
        "| ``match()`` | Call ``re.match()`` on each element, returning a boolean. |\n",
        "| ``extract()`` | Call ``re.match()`` on each element, returning matched groups as strings.|\n",
        "| ``findall()`` | Call ``re.findall()`` on each element |\n",
        "| ``replace()`` | Replace occurrences of pattern with some other string|\n",
        "| ``contains()`` | Call ``re.search()`` on each element, returning a boolean |\n",
        "| ``count()`` | Count occurrences of pattern|\n",
        "| ``split()``   | Equivalent to ``str.split()``, but accepts regexps |\n",
        "| ``rsplit()`` | Equivalent to ``str.rsplit()``, but accepts regexps |"
      ]
    },
    {
      "cell_type": "markdown",
      "metadata": {
        "id": "klaXY1RTGoMb",
        "colab_type": "text"
      },
      "source": [
        "With these, you can do a wide range of interesting operations.\n",
        "For example, we can extract the first name from each by asking for a contiguous group of characters at the beginning of each element:"
      ]
    },
    {
      "cell_type": "code",
      "metadata": {
        "id": "ke8Lk9JnGoMb",
        "colab_type": "code",
        "colab": {
          "base_uri": "https://localhost:8080/",
          "height": 139
        },
        "outputId": "3d6d4ce3-ecf7-48df-c414-e4bd9d5fde07"
      },
      "source": [
        "monte.str.extract('([A-Za-z]+)', expand=False)"
      ],
      "execution_count": 19,
      "outputs": [
        {
          "output_type": "execute_result",
          "data": {
            "text/plain": [
              "0     Graham\n",
              "1       John\n",
              "2      Terry\n",
              "3       Eric\n",
              "4      Terry\n",
              "5    Michael\n",
              "dtype: object"
            ]
          },
          "metadata": {
            "tags": []
          },
          "execution_count": 19
        }
      ]
    },
    {
      "cell_type": "markdown",
      "metadata": {
        "id": "8mNeV0EgGoMi",
        "colab_type": "text"
      },
      "source": [
        "Or we can do something more complicated, like finding all names that start and end with a consonant, making use of the start-of-string (``^``) and end-of-string (``$``) regular expression characters:"
      ]
    },
    {
      "cell_type": "code",
      "metadata": {
        "id": "ohJgYniQGoMj",
        "colab_type": "code",
        "colab": {
          "base_uri": "https://localhost:8080/",
          "height": 139
        },
        "outputId": "a3c8798c-42ee-4da4-c814-f93cab772782"
      },
      "source": [
        "monte.str.findall(r'^[^AEIOU].*[^aeiou]$')"
      ],
      "execution_count": 20,
      "outputs": [
        {
          "output_type": "execute_result",
          "data": {
            "text/plain": [
              "0    [Graham Chapman]\n",
              "1                  []\n",
              "2     [Terry Gilliam]\n",
              "3                  []\n",
              "4       [Terry Jones]\n",
              "5     [Michael Palin]\n",
              "dtype: object"
            ]
          },
          "metadata": {
            "tags": []
          },
          "execution_count": 20
        }
      ]
    },
    {
      "cell_type": "markdown",
      "metadata": {
        "id": "nZZcp2PpGoMp",
        "colab_type": "text"
      },
      "source": [
        "The ability to concisely apply regular expressions across ``Series`` or ``Dataframe`` entries opens up many possibilities for analysis and cleaning of data."
      ]
    },
    {
      "cell_type": "markdown",
      "metadata": {
        "id": "efJ4rCYoGoMq",
        "colab_type": "text"
      },
      "source": [
        "### Miscellaneous methods\n",
        "Finally, there are some miscellaneous methods that enable other convenient operations:\n",
        "\n",
        "| Method | Description |\n",
        "|--------|-------------|\n",
        "| ``get()`` | Index each element |\n",
        "| ``slice()`` | Slice each element|\n",
        "| ``slice_replace()`` | Replace slice in each element with passed value|\n",
        "| ``cat()``      | Concatenate strings|\n",
        "| ``repeat()`` | Repeat values |\n",
        "| ``normalize()`` | Return Unicode form of string |\n",
        "| ``pad()`` | Add whitespace to left, right, or both sides of strings|\n",
        "| ``wrap()`` | Split long strings into lines with length less than a given width|\n",
        "| ``join()`` | Join strings in each element of the Series with passed separator|\n",
        "| ``get_dummies()`` | extract dummy variables as a dataframe |"
      ]
    },
    {
      "cell_type": "markdown",
      "metadata": {
        "id": "Ns1ip-dfGoMu",
        "colab_type": "text"
      },
      "source": [
        "#### Vectorized item access and slicing\n",
        "\n",
        "The ``get()`` and ``slice()`` operations, in particular, enable vectorized element access from each array.\n",
        "For example, we can get a slice of the first three characters of each array using ``str.slice(0, 3)``.\n",
        "Note that this behavior is also available through Python's normal indexing syntax–for example, ``df.str.slice(0, 3)`` is equivalent to ``df.str[0:3]``:"
      ]
    },
    {
      "cell_type": "code",
      "metadata": {
        "id": "wIKf6Iy2GoMu",
        "colab_type": "code",
        "colab": {
          "base_uri": "https://localhost:8080/",
          "height": 139
        },
        "outputId": "45b0ba15-9a69-4b18-9530-7e8042ecf10b"
      },
      "source": [
        "monte.str[0:3]"
      ],
      "execution_count": 21,
      "outputs": [
        {
          "output_type": "execute_result",
          "data": {
            "text/plain": [
              "0    Gra\n",
              "1    Joh\n",
              "2    Ter\n",
              "3    Eri\n",
              "4    Ter\n",
              "5    Mic\n",
              "dtype: object"
            ]
          },
          "metadata": {
            "tags": []
          },
          "execution_count": 21
        }
      ]
    },
    {
      "cell_type": "markdown",
      "metadata": {
        "id": "3mS_KxrvGoM0",
        "colab_type": "text"
      },
      "source": [
        "Indexing via ``df.str.get(i)`` and ``df.str[i]`` is likewise similar.\n",
        "\n",
        "These ``get()`` and ``slice()`` methods also let you access elements of arrays returned by ``split()``.\n",
        "For example, to extract the last name of each entry, we can combine ``split()`` and ``get()``:"
      ]
    },
    {
      "cell_type": "code",
      "metadata": {
        "id": "E5HEEV3DGoM0",
        "colab_type": "code",
        "colab": {
          "base_uri": "https://localhost:8080/",
          "height": 139
        },
        "outputId": "4fa79538-e44c-47ee-bc2a-6b366092a239"
      },
      "source": [
        "monte.str.split().str.get(-1)"
      ],
      "execution_count": 22,
      "outputs": [
        {
          "output_type": "execute_result",
          "data": {
            "text/plain": [
              "0    Chapman\n",
              "1     Cleese\n",
              "2    Gilliam\n",
              "3       Idle\n",
              "4      Jones\n",
              "5      Palin\n",
              "dtype: object"
            ]
          },
          "metadata": {
            "tags": []
          },
          "execution_count": 22
        }
      ]
    },
    {
      "cell_type": "markdown",
      "metadata": {
        "id": "gIq0QmtXGoM6",
        "colab_type": "text"
      },
      "source": [
        "#### Indicator variables\n",
        "\n",
        "Another method that requires a bit of extra explanation is the ``get_dummies()`` method.\n",
        "This is useful when your data has a column containing some sort of coded indicator.\n",
        "For example, we might have a dataset that contains information in the form of codes, such as A=\"born in America,\" B=\"born in the United Kingdom,\" C=\"likes cheese,\" D=\"likes spam\":"
      ]
    },
    {
      "cell_type": "code",
      "metadata": {
        "id": "rdBHBVw8GoM7",
        "colab_type": "code",
        "colab": {
          "base_uri": "https://localhost:8080/",
          "height": 238
        },
        "outputId": "fffc2be1-ca44-40fa-df12-48b697ab0257"
      },
      "source": [
        "full_monte = pd.DataFrame({'name': monte,\n",
        "                           'info': ['B|C|D', 'B|D', 'A|C',\n",
        "                                    'B|D', 'B|C', 'B|C|D']})\n",
        "full_monte"
      ],
      "execution_count": 23,
      "outputs": [
        {
          "output_type": "execute_result",
          "data": {
            "text/html": [
              "<div>\n",
              "<style scoped>\n",
              "    .dataframe tbody tr th:only-of-type {\n",
              "        vertical-align: middle;\n",
              "    }\n",
              "\n",
              "    .dataframe tbody tr th {\n",
              "        vertical-align: top;\n",
              "    }\n",
              "\n",
              "    .dataframe thead th {\n",
              "        text-align: right;\n",
              "    }\n",
              "</style>\n",
              "<table border=\"1\" class=\"dataframe\">\n",
              "  <thead>\n",
              "    <tr style=\"text-align: right;\">\n",
              "      <th></th>\n",
              "      <th>name</th>\n",
              "      <th>info</th>\n",
              "    </tr>\n",
              "  </thead>\n",
              "  <tbody>\n",
              "    <tr>\n",
              "      <th>0</th>\n",
              "      <td>Graham Chapman</td>\n",
              "      <td>B|C|D</td>\n",
              "    </tr>\n",
              "    <tr>\n",
              "      <th>1</th>\n",
              "      <td>John Cleese</td>\n",
              "      <td>B|D</td>\n",
              "    </tr>\n",
              "    <tr>\n",
              "      <th>2</th>\n",
              "      <td>Terry Gilliam</td>\n",
              "      <td>A|C</td>\n",
              "    </tr>\n",
              "    <tr>\n",
              "      <th>3</th>\n",
              "      <td>Eric Idle</td>\n",
              "      <td>B|D</td>\n",
              "    </tr>\n",
              "    <tr>\n",
              "      <th>4</th>\n",
              "      <td>Terry Jones</td>\n",
              "      <td>B|C</td>\n",
              "    </tr>\n",
              "    <tr>\n",
              "      <th>5</th>\n",
              "      <td>Michael Palin</td>\n",
              "      <td>B|C|D</td>\n",
              "    </tr>\n",
              "  </tbody>\n",
              "</table>\n",
              "</div>"
            ],
            "text/plain": [
              "             name   info\n",
              "0  Graham Chapman  B|C|D\n",
              "1     John Cleese    B|D\n",
              "2   Terry Gilliam    A|C\n",
              "3       Eric Idle    B|D\n",
              "4     Terry Jones    B|C\n",
              "5   Michael Palin  B|C|D"
            ]
          },
          "metadata": {
            "tags": []
          },
          "execution_count": 23
        }
      ]
    },
    {
      "cell_type": "markdown",
      "metadata": {
        "id": "dE0xdW2HGoM_",
        "colab_type": "text"
      },
      "source": [
        "The ``get_dummies()`` routine lets you quickly split-out these indicator variables into a ``DataFrame``:"
      ]
    },
    {
      "cell_type": "code",
      "metadata": {
        "id": "q3bP0iywGoM_",
        "colab_type": "code",
        "colab": {
          "base_uri": "https://localhost:8080/",
          "height": 238
        },
        "outputId": "f77decb5-8f32-4107-d2a8-8dc7324ad9ee"
      },
      "source": [
        "full_monte['info'].str.get_dummies('|')"
      ],
      "execution_count": 24,
      "outputs": [
        {
          "output_type": "execute_result",
          "data": {
            "text/html": [
              "<div>\n",
              "<style scoped>\n",
              "    .dataframe tbody tr th:only-of-type {\n",
              "        vertical-align: middle;\n",
              "    }\n",
              "\n",
              "    .dataframe tbody tr th {\n",
              "        vertical-align: top;\n",
              "    }\n",
              "\n",
              "    .dataframe thead th {\n",
              "        text-align: right;\n",
              "    }\n",
              "</style>\n",
              "<table border=\"1\" class=\"dataframe\">\n",
              "  <thead>\n",
              "    <tr style=\"text-align: right;\">\n",
              "      <th></th>\n",
              "      <th>A</th>\n",
              "      <th>B</th>\n",
              "      <th>C</th>\n",
              "      <th>D</th>\n",
              "    </tr>\n",
              "  </thead>\n",
              "  <tbody>\n",
              "    <tr>\n",
              "      <th>0</th>\n",
              "      <td>0</td>\n",
              "      <td>1</td>\n",
              "      <td>1</td>\n",
              "      <td>1</td>\n",
              "    </tr>\n",
              "    <tr>\n",
              "      <th>1</th>\n",
              "      <td>0</td>\n",
              "      <td>1</td>\n",
              "      <td>0</td>\n",
              "      <td>1</td>\n",
              "    </tr>\n",
              "    <tr>\n",
              "      <th>2</th>\n",
              "      <td>1</td>\n",
              "      <td>0</td>\n",
              "      <td>1</td>\n",
              "      <td>0</td>\n",
              "    </tr>\n",
              "    <tr>\n",
              "      <th>3</th>\n",
              "      <td>0</td>\n",
              "      <td>1</td>\n",
              "      <td>0</td>\n",
              "      <td>1</td>\n",
              "    </tr>\n",
              "    <tr>\n",
              "      <th>4</th>\n",
              "      <td>0</td>\n",
              "      <td>1</td>\n",
              "      <td>1</td>\n",
              "      <td>0</td>\n",
              "    </tr>\n",
              "    <tr>\n",
              "      <th>5</th>\n",
              "      <td>0</td>\n",
              "      <td>1</td>\n",
              "      <td>1</td>\n",
              "      <td>1</td>\n",
              "    </tr>\n",
              "  </tbody>\n",
              "</table>\n",
              "</div>"
            ],
            "text/plain": [
              "   A  B  C  D\n",
              "0  0  1  1  1\n",
              "1  0  1  0  1\n",
              "2  1  0  1  0\n",
              "3  0  1  0  1\n",
              "4  0  1  1  0\n",
              "5  0  1  1  1"
            ]
          },
          "metadata": {
            "tags": []
          },
          "execution_count": 24
        }
      ]
    },
    {
      "cell_type": "markdown",
      "metadata": {
        "id": "4zlm1Ex8GoNF",
        "colab_type": "text"
      },
      "source": [
        "With these operations as building blocks, you can construct an endless range of string processing procedures when cleaning your data.\n",
        "\n",
        "We won't dive further into these methods here, but I encourage you to read through [\"Working with Text Data\"](http://pandas.pydata.org/pandas-docs/stable/text.html) in the Pandas online documentation, or to refer to the resources listed in [Further Resources](03.13-Further-Resources.ipynb)."
      ]
    },
    {
      "cell_type": "markdown",
      "metadata": {
        "id": "o8Trr0CsGoNF",
        "colab_type": "text"
      },
      "source": [
        "## Example: Recipe Database\n",
        "\n",
        "These vectorized string operations become most useful in the process of cleaning up messy, real-world data.\n",
        "Here I'll walk through an example of that, using an open recipe database compiled from various sources on the Web.\n",
        "Our goal will be to parse the recipe data into ingredient lists, so we can quickly find a recipe based on some ingredients we have on hand.\n",
        "\n",
        "The scripts used to compile this can be found at https://github.com/fictivekin/openrecipes, and the link to the current version of the database is found there as well.\n",
        "\n",
        "As of Spring 2016, this database is about 30 MB, and can be downloaded and unzipped with these commands:"
      ]
    },
    {
      "cell_type": "code",
      "metadata": {
        "id": "c3LPcZ1dGoNG",
        "colab_type": "code",
        "colab": {
          "base_uri": "https://localhost:8080/",
          "height": 34
        },
        "outputId": "b11b64b0-37ea-4394-8328-c631c4175a64"
      },
      "source": [
        "# !curl -O http://openrecipes.s3.amazonaws.com/recipeitems-latest.json.gz\n",
        "# !gunzip recipeitems-latest.json.gz"
      ],
      "execution_count": 93,
      "outputs": [
        {
          "output_type": "stream",
          "text": [
            "gzip: recipeitems-latest.json.gz: No such file or directory\n"
          ],
          "name": "stdout"
        }
      ]
    },
    {
      "cell_type": "markdown",
      "metadata": {
        "id": "bm_kLXcfGoNK",
        "colab_type": "text"
      },
      "source": [
        "The database is in JSON format, so we will try ``pd.read_json`` to read it:"
      ]
    },
    {
      "cell_type": "code",
      "metadata": {
        "id": "F1jAZW2wGoNL",
        "colab_type": "code",
        "colab": {
          "base_uri": "https://localhost:8080/",
          "height": 34
        },
        "outputId": "a32d3bff-65a0-4b53-8908-6b3e28a9784d"
      },
      "source": [
        "try:\n",
        "    recipes = pd.read_json('./recipeitems-latest.json')\n",
        "except ValueError as e:\n",
        "    print(\"ValueError:\", e)"
      ],
      "execution_count": 95,
      "outputs": [
        {
          "output_type": "stream",
          "text": [
            "ValueError: Trailing data\n"
          ],
          "name": "stdout"
        }
      ]
    },
    {
      "cell_type": "markdown",
      "metadata": {
        "id": "IHxo_Nm1GoNR",
        "colab_type": "text"
      },
      "source": [
        "Oops! We get a ``ValueError`` mentioning that there is \"trailing data.\"\n",
        "Searching for the text of this error on the Internet, it seems that it's due to using a file in which *each line* is itself a valid JSON, but the full file is not.\n",
        "Let's check if this interpretation is true:"
      ]
    },
    {
      "cell_type": "code",
      "metadata": {
        "id": "DNJc_amXGoNS",
        "colab_type": "code",
        "colab": {
          "base_uri": "https://localhost:8080/",
          "height": 34
        },
        "outputId": "a8bc79fe-0315-4b07-b7b8-c8fe2a744a47"
      },
      "source": [
        "with open('./recipeitems-latest.json') as f:\n",
        "    line = f.readline()\n",
        "pd.read_json(line).shape"
      ],
      "execution_count": 96,
      "outputs": [
        {
          "output_type": "execute_result",
          "data": {
            "text/plain": [
              "(2, 12)"
            ]
          },
          "metadata": {
            "tags": []
          },
          "execution_count": 96
        }
      ]
    },
    {
      "cell_type": "markdown",
      "metadata": {
        "id": "slnRT9oUGoNX",
        "colab_type": "text"
      },
      "source": [
        "Yes, apparently each line is a valid JSON, so we'll need to string them together.\n",
        "One way we can do this is to actually construct a string representation containing all these JSON entries, and then load the whole thing with ``pd.read_json``:"
      ]
    },
    {
      "cell_type": "code",
      "metadata": {
        "id": "nkLaSaO8GoNY",
        "colab_type": "code",
        "colab": {}
      },
      "source": [
        "# read the entire file into a Python array\n",
        "with open('recipeitems-latest.json', 'r') as f:\n",
        "    # Extract each line\n",
        "    data = (line.strip() for line in f)\n",
        "    # Reformat so each line is the element of a list\n",
        "    data_json = \"[{0}]\".format(','.join(data))\n",
        "# read the result as a JSON\n",
        "recipes = pd.read_json(data_json)"
      ],
      "execution_count": 97,
      "outputs": []
    },
    {
      "cell_type": "code",
      "metadata": {
        "id": "cQ25rhjQGoNd",
        "colab_type": "code",
        "colab": {
          "base_uri": "https://localhost:8080/",
          "height": 34
        },
        "outputId": "216d7978-ac53-4606-d48c-eeb2d5fdf628"
      },
      "source": [
        "recipes.shape"
      ],
      "execution_count": 98,
      "outputs": [
        {
          "output_type": "execute_result",
          "data": {
            "text/plain": [
              "(173278, 17)"
            ]
          },
          "metadata": {
            "tags": []
          },
          "execution_count": 98
        }
      ]
    },
    {
      "cell_type": "code",
      "metadata": {
        "id": "1ah7dsqqlIQQ",
        "colab_type": "code",
        "colab": {
          "base_uri": "https://localhost:8080/",
          "height": 591
        },
        "outputId": "1f46d297-d6b5-4287-d775-9ec95c0862e1"
      },
      "source": [
        "recipes.head()"
      ],
      "execution_count": 103,
      "outputs": [
        {
          "output_type": "execute_result",
          "data": {
            "text/html": [
              "<div>\n",
              "<style scoped>\n",
              "    .dataframe tbody tr th:only-of-type {\n",
              "        vertical-align: middle;\n",
              "    }\n",
              "\n",
              "    .dataframe tbody tr th {\n",
              "        vertical-align: top;\n",
              "    }\n",
              "\n",
              "    .dataframe thead th {\n",
              "        text-align: right;\n",
              "    }\n",
              "</style>\n",
              "<table border=\"1\" class=\"dataframe\">\n",
              "  <thead>\n",
              "    <tr style=\"text-align: right;\">\n",
              "      <th></th>\n",
              "      <th>_id</th>\n",
              "      <th>name</th>\n",
              "      <th>ingredients</th>\n",
              "      <th>url</th>\n",
              "      <th>image</th>\n",
              "      <th>ts</th>\n",
              "      <th>cookTime</th>\n",
              "      <th>source</th>\n",
              "      <th>recipeYield</th>\n",
              "      <th>datePublished</th>\n",
              "      <th>prepTime</th>\n",
              "      <th>description</th>\n",
              "      <th>totalTime</th>\n",
              "      <th>creator</th>\n",
              "      <th>recipeCategory</th>\n",
              "      <th>dateModified</th>\n",
              "      <th>recipeInstructions</th>\n",
              "    </tr>\n",
              "  </thead>\n",
              "  <tbody>\n",
              "    <tr>\n",
              "      <th>0</th>\n",
              "      <td>{'$oid': '5160756b96cc62079cc2db15'}</td>\n",
              "      <td>Drop Biscuits and Sausage Gravy</td>\n",
              "      <td>Biscuits\\n3 cups All-purpose Flour\\n2 Tablespo...</td>\n",
              "      <td>http://thepioneerwoman.com/cooking/2013/03/dro...</td>\n",
              "      <td>http://static.thepioneerwoman.com/cooking/file...</td>\n",
              "      <td>{'$date': 1365276011104}</td>\n",
              "      <td>PT30M</td>\n",
              "      <td>thepioneerwoman</td>\n",
              "      <td>12</td>\n",
              "      <td>2013-03-11</td>\n",
              "      <td>PT10M</td>\n",
              "      <td>Late Saturday afternoon, after Marlboro Man ha...</td>\n",
              "      <td>NaN</td>\n",
              "      <td>NaN</td>\n",
              "      <td>NaN</td>\n",
              "      <td>NaN</td>\n",
              "      <td>NaN</td>\n",
              "    </tr>\n",
              "    <tr>\n",
              "      <th>1</th>\n",
              "      <td>{'$oid': '5160756d96cc62079cc2db16'}</td>\n",
              "      <td>Hot Roast Beef Sandwiches</td>\n",
              "      <td>12 whole Dinner Rolls Or Small Sandwich Buns (...</td>\n",
              "      <td>http://thepioneerwoman.com/cooking/2013/03/hot...</td>\n",
              "      <td>http://static.thepioneerwoman.com/cooking/file...</td>\n",
              "      <td>{'$date': 1365276013902}</td>\n",
              "      <td>PT20M</td>\n",
              "      <td>thepioneerwoman</td>\n",
              "      <td>12</td>\n",
              "      <td>2013-03-13</td>\n",
              "      <td>PT20M</td>\n",
              "      <td>When I was growing up, I participated in my Ep...</td>\n",
              "      <td>NaN</td>\n",
              "      <td>NaN</td>\n",
              "      <td>NaN</td>\n",
              "      <td>NaN</td>\n",
              "      <td>NaN</td>\n",
              "    </tr>\n",
              "    <tr>\n",
              "      <th>2</th>\n",
              "      <td>{'$oid': '5160756f96cc6207a37ff777'}</td>\n",
              "      <td>Morrocan Carrot and Chickpea Salad</td>\n",
              "      <td>Dressing:\\n1 tablespoon cumin seeds\\n1/3 cup /...</td>\n",
              "      <td>http://www.101cookbooks.com/archives/moroccan-...</td>\n",
              "      <td>http://www.101cookbooks.com/mt-static/images/f...</td>\n",
              "      <td>{'$date': 1365276015332}</td>\n",
              "      <td>NaN</td>\n",
              "      <td>101cookbooks</td>\n",
              "      <td>NaN</td>\n",
              "      <td>2013-01-07</td>\n",
              "      <td>PT15M</td>\n",
              "      <td>A beauty of a carrot salad - tricked out with ...</td>\n",
              "      <td>NaN</td>\n",
              "      <td>NaN</td>\n",
              "      <td>NaN</td>\n",
              "      <td>NaN</td>\n",
              "      <td>NaN</td>\n",
              "    </tr>\n",
              "    <tr>\n",
              "      <th>3</th>\n",
              "      <td>{'$oid': '5160757096cc62079cc2db17'}</td>\n",
              "      <td>Mixed Berry Shortcake</td>\n",
              "      <td>Biscuits\\n3 cups All-purpose Flour\\n2 Tablespo...</td>\n",
              "      <td>http://thepioneerwoman.com/cooking/2013/03/mix...</td>\n",
              "      <td>http://static.thepioneerwoman.com/cooking/file...</td>\n",
              "      <td>{'$date': 1365276016700}</td>\n",
              "      <td>PT15M</td>\n",
              "      <td>thepioneerwoman</td>\n",
              "      <td>8</td>\n",
              "      <td>2013-03-18</td>\n",
              "      <td>PT15M</td>\n",
              "      <td>It's Monday! It's a brand new week! The birds ...</td>\n",
              "      <td>NaN</td>\n",
              "      <td>NaN</td>\n",
              "      <td>NaN</td>\n",
              "      <td>NaN</td>\n",
              "      <td>NaN</td>\n",
              "    </tr>\n",
              "    <tr>\n",
              "      <th>4</th>\n",
              "      <td>{'$oid': '5160757496cc6207a37ff778'}</td>\n",
              "      <td>Pomegranate Yogurt Bowl</td>\n",
              "      <td>For each bowl: \\na big dollop of Greek yogurt\\...</td>\n",
              "      <td>http://www.101cookbooks.com/archives/pomegrana...</td>\n",
              "      <td>http://www.101cookbooks.com/mt-static/images/f...</td>\n",
              "      <td>{'$date': 1365276020318}</td>\n",
              "      <td>NaN</td>\n",
              "      <td>101cookbooks</td>\n",
              "      <td>Serves 1.</td>\n",
              "      <td>2013-01-20</td>\n",
              "      <td>PT5M</td>\n",
              "      <td>A simple breakfast bowl made with Greek yogurt...</td>\n",
              "      <td>NaN</td>\n",
              "      <td>NaN</td>\n",
              "      <td>NaN</td>\n",
              "      <td>NaN</td>\n",
              "      <td>NaN</td>\n",
              "    </tr>\n",
              "  </tbody>\n",
              "</table>\n",
              "</div>"
            ],
            "text/plain": [
              "                                    _id  ... recipeInstructions\n",
              "0  {'$oid': '5160756b96cc62079cc2db15'}  ...                NaN\n",
              "1  {'$oid': '5160756d96cc62079cc2db16'}  ...                NaN\n",
              "2  {'$oid': '5160756f96cc6207a37ff777'}  ...                NaN\n",
              "3  {'$oid': '5160757096cc62079cc2db17'}  ...                NaN\n",
              "4  {'$oid': '5160757496cc6207a37ff778'}  ...                NaN\n",
              "\n",
              "[5 rows x 17 columns]"
            ]
          },
          "metadata": {
            "tags": []
          },
          "execution_count": 103
        }
      ]
    },
    {
      "cell_type": "markdown",
      "metadata": {
        "id": "TWESn5R2GoNh",
        "colab_type": "text"
      },
      "source": [
        "We see there are nearly 200,000 recipes, and 17 columns.\n",
        "Let's take a look at one row to see what we have:"
      ]
    },
    {
      "cell_type": "code",
      "metadata": {
        "id": "VvyCRVscGoNi",
        "colab_type": "code",
        "colab": {
          "base_uri": "https://localhost:8080/",
          "height": 330
        },
        "outputId": "3ad2769c-2fc7-4d3e-efb6-db57d05b1031"
      },
      "source": [
        "recipes.iloc[0]"
      ],
      "execution_count": 99,
      "outputs": [
        {
          "output_type": "execute_result",
          "data": {
            "text/plain": [
              "_id                                {'$oid': '5160756b96cc62079cc2db15'}\n",
              "name                                    Drop Biscuits and Sausage Gravy\n",
              "ingredients           Biscuits\\n3 cups All-purpose Flour\\n2 Tablespo...\n",
              "url                   http://thepioneerwoman.com/cooking/2013/03/dro...\n",
              "image                 http://static.thepioneerwoman.com/cooking/file...\n",
              "ts                                             {'$date': 1365276011104}\n",
              "cookTime                                                          PT30M\n",
              "source                                                  thepioneerwoman\n",
              "recipeYield                                                          12\n",
              "datePublished                                                2013-03-11\n",
              "prepTime                                                          PT10M\n",
              "description           Late Saturday afternoon, after Marlboro Man ha...\n",
              "totalTime                                                           NaN\n",
              "creator                                                             NaN\n",
              "recipeCategory                                                      NaN\n",
              "dateModified                                                        NaN\n",
              "recipeInstructions                                                  NaN\n",
              "Name: 0, dtype: object"
            ]
          },
          "metadata": {
            "tags": []
          },
          "execution_count": 99
        }
      ]
    },
    {
      "cell_type": "markdown",
      "metadata": {
        "id": "e3O06LKcGoNn",
        "colab_type": "text"
      },
      "source": [
        "There is a lot of information there, but much of it is in a very messy form, as is typical of data scraped from the Web.\n",
        "In particular, the ingredient list is in string format; we're going to have to carefully extract the information we're interested in.\n",
        "Let's start by taking a closer look at the ingredients:"
      ]
    },
    {
      "cell_type": "code",
      "metadata": {
        "id": "EeFdik6lGoNo",
        "colab_type": "code",
        "colab": {
          "base_uri": "https://localhost:8080/",
          "height": 173
        },
        "outputId": "ca50d714-8626-4d16-b78b-b63df26e5ca9"
      },
      "source": [
        "recipes.ingredients.str.len().describe()"
      ],
      "execution_count": 104,
      "outputs": [
        {
          "output_type": "execute_result",
          "data": {
            "text/plain": [
              "count    173278.000000\n",
              "mean        244.617926\n",
              "std         146.705285\n",
              "min           0.000000\n",
              "25%         147.000000\n",
              "50%         221.000000\n",
              "75%         314.000000\n",
              "max        9067.000000\n",
              "Name: ingredients, dtype: float64"
            ]
          },
          "metadata": {
            "tags": []
          },
          "execution_count": 104
        }
      ]
    },
    {
      "cell_type": "markdown",
      "metadata": {
        "id": "3jjU5Nv0GoNs",
        "colab_type": "text"
      },
      "source": [
        "The ingredient lists average 250 characters long, with a minimum of 0 and a maximum of nearly 10,000 characters!\n",
        "\n",
        "Just out of curiousity, let's see which recipe has the longest ingredient list:"
      ]
    },
    {
      "cell_type": "code",
      "metadata": {
        "id": "2riIIOarGoNs",
        "colab_type": "code",
        "colab": {
          "base_uri": "https://localhost:8080/",
          "height": 34
        },
        "outputId": "b75e3b27-b439-48f5-e6a2-1de4d8919382"
      },
      "source": [
        "recipes.name[np.argmax(recipes.ingredients.str.len())]"
      ],
      "execution_count": 105,
      "outputs": [
        {
          "output_type": "execute_result",
          "data": {
            "text/plain": [
              "'Carrot Pineapple Spice &amp; Brownie Layer Cake with Whipped Cream &amp; Cream Cheese Frosting and Marzipan Carrots'"
            ]
          },
          "metadata": {
            "tags": []
          },
          "execution_count": 105
        }
      ]
    },
    {
      "cell_type": "markdown",
      "metadata": {
        "id": "-Bbg_zHzGoNw",
        "colab_type": "text"
      },
      "source": [
        "That certainly looks like an involved recipe.\n",
        "\n",
        "We can do other aggregate explorations; for example, let's see how many of the recipes are for breakfast food:"
      ]
    },
    {
      "cell_type": "code",
      "metadata": {
        "id": "cdKzaSzPGoNx",
        "colab_type": "code",
        "colab": {
          "base_uri": "https://localhost:8080/",
          "height": 34
        },
        "outputId": "10cf4928-d214-4ef2-9951-e7187091f0a8"
      },
      "source": [
        "recipes.description.str.contains('[Bb]reakfast').sum()"
      ],
      "execution_count": 106,
      "outputs": [
        {
          "output_type": "execute_result",
          "data": {
            "text/plain": [
              "3524"
            ]
          },
          "metadata": {
            "tags": []
          },
          "execution_count": 106
        }
      ]
    },
    {
      "cell_type": "markdown",
      "metadata": {
        "id": "6CcjRZOHGoN1",
        "colab_type": "text"
      },
      "source": [
        "Or how many of the recipes list cinnamon as an ingredient:"
      ]
    },
    {
      "cell_type": "code",
      "metadata": {
        "id": "4A4pzh1VGoN2",
        "colab_type": "code",
        "colab": {
          "base_uri": "https://localhost:8080/",
          "height": 34
        },
        "outputId": "f5629a98-0ccb-4a23-c1ae-ffe2ffd150ba"
      },
      "source": [
        "recipes.ingredients.str.contains('[Cc]innamon').sum()"
      ],
      "execution_count": 107,
      "outputs": [
        {
          "output_type": "execute_result",
          "data": {
            "text/plain": [
              "10526"
            ]
          },
          "metadata": {
            "tags": []
          },
          "execution_count": 107
        }
      ]
    },
    {
      "cell_type": "markdown",
      "metadata": {
        "id": "wqAaK8ioGoN5",
        "colab_type": "text"
      },
      "source": [
        "We could even look to see whether any recipes misspell the ingredient as \"cinamon\":"
      ]
    },
    {
      "cell_type": "code",
      "metadata": {
        "id": "LY2L5cWfGoN6",
        "colab_type": "code",
        "colab": {
          "base_uri": "https://localhost:8080/",
          "height": 34
        },
        "outputId": "e34fef60-a45b-4586-c990-729741a678aa"
      },
      "source": [
        "recipes.ingredients.str.contains('[Cc]inamon').sum()"
      ],
      "execution_count": 108,
      "outputs": [
        {
          "output_type": "execute_result",
          "data": {
            "text/plain": [
              "11"
            ]
          },
          "metadata": {
            "tags": []
          },
          "execution_count": 108
        }
      ]
    },
    {
      "cell_type": "markdown",
      "metadata": {
        "id": "B_FK-fIBGoN_",
        "colab_type": "text"
      },
      "source": [
        "This is the type of essential data exploration that is possible with Pandas string tools.\n",
        "It is data munging like this that Python really excels at."
      ]
    },
    {
      "cell_type": "markdown",
      "metadata": {
        "id": "LU7deyF2GoOA",
        "colab_type": "text"
      },
      "source": [
        "### A simple recipe recommender\n",
        "\n",
        "Let's go a bit further, and start working on a simple recipe recommendation system: given a list of ingredients, find a recipe that uses all those ingredients.\n",
        "While conceptually straightforward, the task is complicated by the heterogeneity of the data: there is no easy operation, for example, to extract a clean list of ingredients from each row.\n",
        "So we will cheat a bit: we'll start with a list of common ingredients, and simply search to see whether they are in each recipe's ingredient list.\n",
        "For simplicity, let's just stick with herbs and spices for the time being:"
      ]
    },
    {
      "cell_type": "code",
      "metadata": {
        "id": "IDJTfUK0GoOA",
        "colab_type": "code",
        "colab": {}
      },
      "source": [
        "spice_list = ['salt', 'pepper', 'oregano', 'sage', 'parsley',\n",
        "              'rosemary', 'tarragon', 'thyme', 'paprika', 'cumin']"
      ],
      "execution_count": 109,
      "outputs": []
    },
    {
      "cell_type": "markdown",
      "metadata": {
        "id": "RvopgsMiGoOF",
        "colab_type": "text"
      },
      "source": [
        "We can then build a Boolean ``DataFrame`` consisting of True and False values, indicating whether this ingredient appears in the list:"
      ]
    },
    {
      "cell_type": "code",
      "metadata": {
        "id": "N6k2Q7gtGoOG",
        "colab_type": "code",
        "colab": {
          "base_uri": "https://localhost:8080/",
          "height": 206
        },
        "outputId": "bf4de3e1-d898-4c74-e558-48f43f4d5d73"
      },
      "source": [
        "import re\n",
        "spice_df = pd.DataFrame(dict((spice, recipes.ingredients.str.contains(spice, re.IGNORECASE))\n",
        "                             for spice in spice_list))\n",
        "spice_df.head()"
      ],
      "execution_count": 110,
      "outputs": [
        {
          "output_type": "execute_result",
          "data": {
            "text/html": [
              "<div>\n",
              "<style scoped>\n",
              "    .dataframe tbody tr th:only-of-type {\n",
              "        vertical-align: middle;\n",
              "    }\n",
              "\n",
              "    .dataframe tbody tr th {\n",
              "        vertical-align: top;\n",
              "    }\n",
              "\n",
              "    .dataframe thead th {\n",
              "        text-align: right;\n",
              "    }\n",
              "</style>\n",
              "<table border=\"1\" class=\"dataframe\">\n",
              "  <thead>\n",
              "    <tr style=\"text-align: right;\">\n",
              "      <th></th>\n",
              "      <th>salt</th>\n",
              "      <th>pepper</th>\n",
              "      <th>oregano</th>\n",
              "      <th>sage</th>\n",
              "      <th>parsley</th>\n",
              "      <th>rosemary</th>\n",
              "      <th>tarragon</th>\n",
              "      <th>thyme</th>\n",
              "      <th>paprika</th>\n",
              "      <th>cumin</th>\n",
              "    </tr>\n",
              "  </thead>\n",
              "  <tbody>\n",
              "    <tr>\n",
              "      <th>0</th>\n",
              "      <td>False</td>\n",
              "      <td>False</td>\n",
              "      <td>False</td>\n",
              "      <td>True</td>\n",
              "      <td>False</td>\n",
              "      <td>False</td>\n",
              "      <td>False</td>\n",
              "      <td>False</td>\n",
              "      <td>False</td>\n",
              "      <td>False</td>\n",
              "    </tr>\n",
              "    <tr>\n",
              "      <th>1</th>\n",
              "      <td>False</td>\n",
              "      <td>False</td>\n",
              "      <td>False</td>\n",
              "      <td>False</td>\n",
              "      <td>False</td>\n",
              "      <td>False</td>\n",
              "      <td>False</td>\n",
              "      <td>False</td>\n",
              "      <td>False</td>\n",
              "      <td>False</td>\n",
              "    </tr>\n",
              "    <tr>\n",
              "      <th>2</th>\n",
              "      <td>True</td>\n",
              "      <td>True</td>\n",
              "      <td>False</td>\n",
              "      <td>False</td>\n",
              "      <td>False</td>\n",
              "      <td>False</td>\n",
              "      <td>False</td>\n",
              "      <td>False</td>\n",
              "      <td>False</td>\n",
              "      <td>True</td>\n",
              "    </tr>\n",
              "    <tr>\n",
              "      <th>3</th>\n",
              "      <td>False</td>\n",
              "      <td>False</td>\n",
              "      <td>False</td>\n",
              "      <td>False</td>\n",
              "      <td>False</td>\n",
              "      <td>False</td>\n",
              "      <td>False</td>\n",
              "      <td>False</td>\n",
              "      <td>False</td>\n",
              "      <td>False</td>\n",
              "    </tr>\n",
              "    <tr>\n",
              "      <th>4</th>\n",
              "      <td>False</td>\n",
              "      <td>False</td>\n",
              "      <td>False</td>\n",
              "      <td>False</td>\n",
              "      <td>False</td>\n",
              "      <td>False</td>\n",
              "      <td>False</td>\n",
              "      <td>False</td>\n",
              "      <td>False</td>\n",
              "      <td>False</td>\n",
              "    </tr>\n",
              "  </tbody>\n",
              "</table>\n",
              "</div>"
            ],
            "text/plain": [
              "    salt  pepper  oregano   sage  ...  tarragon  thyme  paprika  cumin\n",
              "0  False   False    False   True  ...     False  False    False  False\n",
              "1  False   False    False  False  ...     False  False    False  False\n",
              "2   True    True    False  False  ...     False  False    False   True\n",
              "3  False   False    False  False  ...     False  False    False  False\n",
              "4  False   False    False  False  ...     False  False    False  False\n",
              "\n",
              "[5 rows x 10 columns]"
            ]
          },
          "metadata": {
            "tags": []
          },
          "execution_count": 110
        }
      ]
    },
    {
      "cell_type": "markdown",
      "metadata": {
        "id": "-010tgjdGoOK",
        "colab_type": "text"
      },
      "source": [
        "Now, as an example, let's say we'd like to find a recipe that uses parsley, paprika, and tarragon.\n",
        "We can compute this very quickly using the ``query()`` method of ``DataFrame``s, discussed in [High-Performance Pandas: ``eval()`` and ``query()``](03.12-Performance-Eval-and-Query.ipynb):"
      ]
    },
    {
      "cell_type": "code",
      "metadata": {
        "id": "LB6_IH0pGoOK",
        "colab_type": "code",
        "colab": {
          "base_uri": "https://localhost:8080/",
          "height": 34
        },
        "outputId": "0f99f133-5387-4b0b-80b0-0ef640db724a"
      },
      "source": [
        "selection = spice_df.query('parsley & paprika & tarragon')\n",
        "len(selection)"
      ],
      "execution_count": 111,
      "outputs": [
        {
          "output_type": "execute_result",
          "data": {
            "text/plain": [
              "10"
            ]
          },
          "metadata": {
            "tags": []
          },
          "execution_count": 111
        }
      ]
    },
    {
      "cell_type": "markdown",
      "metadata": {
        "id": "JKpZzUVaGoOO",
        "colab_type": "text"
      },
      "source": [
        "We find only 10 recipes with this combination; let's use the index returned by this selection to discover the names of the recipes that have this combination:"
      ]
    },
    {
      "cell_type": "code",
      "metadata": {
        "id": "n3OwvuwyGoOO",
        "colab_type": "code",
        "colab": {
          "base_uri": "https://localhost:8080/",
          "height": 208
        },
        "outputId": "4764189d-e8e0-4a52-8805-d27ae68b4bef"
      },
      "source": [
        "recipes.name[selection.index]"
      ],
      "execution_count": 112,
      "outputs": [
        {
          "output_type": "execute_result",
          "data": {
            "text/plain": [
              "2069      All cremat with a Little Gem, dandelion and wa...\n",
              "74964                         Lobster with Thermidor butter\n",
              "93768      Burton's Southern Fried Chicken with White Gravy\n",
              "113926                     Mijo's Slow Cooker Shredded Beef\n",
              "137686                     Asparagus Soup with Poached Eggs\n",
              "140530                                 Fried Oyster Po’boys\n",
              "158475                Lamb shank tagine with herb tabbouleh\n",
              "158486                 Southern fried chicken in buttermilk\n",
              "163175            Fried Chicken Sliders with Pickles + Slaw\n",
              "165243                        Bar Tartine Cauliflower Salad\n",
              "Name: name, dtype: object"
            ]
          },
          "metadata": {
            "tags": []
          },
          "execution_count": 112
        }
      ]
    },
    {
      "cell_type": "markdown",
      "metadata": {
        "id": "BHh9S0amGoOR",
        "colab_type": "text"
      },
      "source": [
        "Now that we have narrowed down our recipe selection by a factor of almost 20,000, we are in a position to make a more informed decision about what we'd like to cook for dinner."
      ]
    },
    {
      "cell_type": "markdown",
      "metadata": {
        "id": "IsmPGUqWGoOS",
        "colab_type": "text"
      },
      "source": [
        "### Going further with recipes\n",
        "\n",
        "Hopefully this example has given you a bit of a flavor (ba-dum!) for the types of data cleaning operations that are efficiently enabled by Pandas string methods.\n",
        "Of course, building a very robust recipe recommendation system would require a *lot* more work!\n",
        "Extracting full ingredient lists from each recipe would be an important piece of the task; unfortunately, the wide variety of formats used makes this a relatively time-consuming process.\n",
        "This points to the truism that in data science, cleaning and munging of real-world data often comprises the majority of the work, and Pandas provides the tools that can help you do this efficiently."
      ]
    },
    {
      "cell_type": "markdown",
      "metadata": {
        "id": "rHQ-JQ2vGoOT",
        "colab_type": "text"
      },
      "source": [
        "<!--NAVIGATION-->\n",
        "< [Pivot Tables](03.09-Pivot-Tables.ipynb) | [Contents](Index.ipynb) | [Working with Time Series](03.11-Working-with-Time-Series.ipynb) >\n",
        "\n",
        "<a href=\"https://colab.research.google.com/github/jakevdp/PythonDataScienceHandbook/blob/master/notebooks/03.10-Working-With-Strings.ipynb\"><img align=\"left\" src=\"https://colab.research.google.com/assets/colab-badge.svg\" alt=\"Open in Colab\" title=\"Open and Execute in Google Colaboratory\"></a>\n"
      ]
    }
  ]
}